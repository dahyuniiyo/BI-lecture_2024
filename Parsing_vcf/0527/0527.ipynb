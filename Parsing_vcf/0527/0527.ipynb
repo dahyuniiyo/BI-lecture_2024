{
 "cells": [
  {
   "cell_type": "code",
   "execution_count": 1,
   "metadata": {},
   "outputs": [
    {
     "name": "stdout",
     "output_type": "stream",
     "text": [
      "{1: 2, 2: 1, 3: 3}\n"
     ]
    }
   ],
   "source": [
    "data_list = [1, 1, 2, 3, 3, 3]\n",
    "\n",
    "data = dict()\n",
    "\n",
    "for elem in data_list:\n",
    "    if elem not in data:\n",
    "        data[elem] = 0\n",
    "\n",
    "    data[elem] += 1\n",
    "\n",
    "print(data)"
   ]
  },
  {
   "cell_type": "code",
   "execution_count": 6,
   "metadata": {},
   "outputs": [
    {
     "name": "stdout",
     "output_type": "stream",
     "text": [
      "defaultdict(<class 'int'>, {1: 2, 2: 1, 3: 3})\n"
     ]
    }
   ],
   "source": [
    "from collections import defaultdict\n",
    "\n",
    "data_list = [1, 1, 2, 3, 3, 3]\n",
    "\n",
    "data = defaultdict(int)\n",
    "\n",
    "for elem in data_list:\n",
    "#   if elem not in data:\n",
    "#      data[elem] = 0\n",
    "    data[elem] += 1\n",
    "\n",
    "print(data)"
   ]
  },
  {
   "cell_type": "code",
   "execution_count": null,
   "metadata": {},
   "outputs": [],
   "source": []
  },
  {
   "cell_type": "code",
   "execution_count": 27,
   "metadata": {},
   "outputs": [
    {
     "name": "stdout",
     "output_type": "stream",
     "text": [
      "defaultdict(<class 'int'>, {'A': 2, 'C': 2, 'G': 1, 'T': 4})\n"
     ]
    }
   ],
   "source": [
    "from collections import defaultdict\n",
    "\n",
    "seq = \"AACCGTTTT\" \n",
    "\n",
    "data = defaultdict(int)\n",
    "\n",
    "for base in seq:\n",
    "    data[base] += 1\n",
    "\n",
    "print(data)\n",
    "\n"
   ]
  },
  {
   "cell_type": "code",
   "execution_count": 12,
   "metadata": {},
   "outputs": [
    {
     "name": "stdout",
     "output_type": "stream",
     "text": [
      "PASS 518\n",
      "SNP_FILTER 170\n",
      "INDEL_FILTER 2\n"
     ]
    }
   ],
   "source": [
    "# 항목이 정해져있는 컬럼 세고싶을 때 defaultdict 이용\n",
    "\n",
    "from collections import defaultdict\n",
    "\n",
    "data = defaultdict(int)\n",
    "\n",
    "with open(\"SRR000982.filtered.variants.annotated.vcf\") as handle:\n",
    "    for line in handle:\n",
    "        if line.startswith(\"#\"):\n",
    "            continue\n",
    "\n",
    "        row = line.strip().split(\"\\t\")\n",
    "        filt = row[6]\n",
    "        data[filt] += 1\n",
    "\n",
    "# print(data)\n",
    "\n",
    "for k, v in data.items() :\n",
    "    print(k, v)"
   ]
  },
  {
   "cell_type": "code",
   "execution_count": 14,
   "metadata": {},
   "outputs": [
    {
     "name": "stdout",
     "output_type": "stream",
     "text": [
      "         FILTER  COUNT\n",
      "0          PASS    518\n",
      "1    SNP_FILTER    170\n",
      "2  INDEL_FILTER      2\n"
     ]
    },
    {
     "data": {
      "text/plain": [
       "<Axes: title={'center': 'VCF FILTER COUNT'}, xlabel='FILTER', ylabel='COUNT'>"
      ]
     },
     "execution_count": 14,
     "metadata": {},
     "output_type": "execute_result"
    },
    {
     "data": {
      "image/png": "[encoded data removed]",
      "text/plain": [
       "<Figure size 640x480 with 1 Axes>"
      ]
     },
     "metadata": {},
     "output_type": "display_data"
    }
   ],
   "source": [
    "import pandas as pd\n",
    "\n",
    "df = pd.DataFrame({\"FILTER\": data.keys(), \"COUNT\":data.values()})\n",
    "print(df)\n",
    "\n",
    "df.plot(kind=\"bar\", x=\"FILTER\", ylabel=\"COUNT\", title=\"VCF FILTER COUNT\")"
   ]
  },
  {
   "cell_type": "code",
   "execution_count": 17,
   "metadata": {},
   "outputs": [
    {
     "name": "stdout",
     "output_type": "stream",
     "text": [
      "chrM 62\n",
      "chr1 38\n",
      "chr2 24\n",
      "chr3 32\n",
      "chr4 24\n",
      "chr5 18\n",
      "chr6 20\n",
      "chr7 16\n",
      "chr8 8\n",
      "chr9 20\n",
      "chr10 110\n",
      "chr11 38\n",
      "chr12 8\n",
      "chr13 2\n",
      "chr14 6\n",
      "chr15 2\n",
      "chr16 102\n",
      "chr17 58\n",
      "chr18 58\n",
      "chr20 4\n",
      "chr21 6\n",
      "chrX 4\n",
      "chrY 6\n",
      "chr4_gl000193_random 2\n",
      "chrUn_gl000219 2\n",
      "chrUn_gl000220 4\n",
      "chrUn_gl000225 14\n",
      "chrUn_gl000228 2\n"
     ]
    }
   ],
   "source": [
    "from collections import defaultdict\n",
    "\n",
    "data = defaultdict(int)\n",
    "\n",
    "with open(\"SRR000982.filtered.variants.annotated.vcf\") as handle:\n",
    "    for line in handle:\n",
    "        if line.startswith(\"#\"):\n",
    "            continue\n",
    "\n",
    "        row = line.strip().split(\"\\t\")\n",
    "        chrom = row[0]\n",
    "        data[chrom] += 1\n",
    "\n",
    "# print(data)\n",
    "\n",
    "for k, v in data.items() :\n",
    "    print(k, v)"
   ]
  },
  {
   "cell_type": "code",
   "execution_count": 21,
   "metadata": {},
   "outputs": [
    {
     "name": "stdout",
     "output_type": "stream",
     "text": [
      "                   CHROM  COUNT\n",
      "0                   chrM     62\n",
      "1                   chr1     38\n",
      "2                   chr2     24\n",
      "3                   chr3     32\n",
      "4                   chr4     24\n",
      "5                   chr5     18\n",
      "6                   chr6     20\n",
      "7                   chr7     16\n",
      "8                   chr8      8\n",
      "9                   chr9     20\n",
      "10                 chr10    110\n",
      "11                 chr11     38\n",
      "12                 chr12      8\n",
      "13                 chr13      2\n",
      "14                 chr14      6\n",
      "15                 chr15      2\n",
      "16                 chr16    102\n",
      "17                 chr17     58\n",
      "18                 chr18     58\n",
      "19                 chr20      4\n",
      "20                 chr21      6\n",
      "21                  chrX      4\n",
      "22                  chrY      6\n",
      "23  chr4_gl000193_random      2\n",
      "24        chrUn_gl000219      2\n",
      "25        chrUn_gl000220      4\n",
      "26        chrUn_gl000225     14\n",
      "27        chrUn_gl000228      2\n"
     ]
    },
    {
     "data": {
      "text/plain": [
       "<Axes: title={'center': 'VCF CHROM COUNT'}, xlabel='CHROM', ylabel='COUNT'>"
      ]
     },
     "execution_count": 21,
     "metadata": {},
     "output_type": "execute_result"
    },
    {
     "data": {
      "image/png": "[encoded data removed]",
      "text/plain": [
       "<Figure size 640x480 with 1 Axes>"
      ]
     },
     "metadata": {},
     "output_type": "display_data"
    }
   ],
   "source": [
    "import pandas as pd\n",
    "\n",
    "df = pd.DataFrame({\"CHROM\": data.keys(), \"COUNT\":data.values()})\n",
    "print(df)\n",
    "\n",
    "df.plot(kind=\"bar\", x=\"CHROM\", ylabel=\"COUNT\", title=\"VCF CHROM COUNT\")"
   ]
  },
  {
   "cell_type": "code",
   "execution_count": null,
   "metadata": {},
   "outputs": [],
   "source": []
  }
 ],
 "metadata": {
  "kernelspec": {
   "display_name": "base",
   "language": "python",
   "name": "python3"
  },
  "language_info": {
   "codemirror_mode": {
    "name": "ipython",
    "version": 3
   },
   "file_extension": ".py",
   "mimetype": "text/x-python",
   "name": "python",
   "nbconvert_exporter": "python",
   "pygments_lexer": "ipython3",
   "version": "3.11.7"
  }
 },
 "nbformat": 4,
 "nbformat_minor": 2
}
