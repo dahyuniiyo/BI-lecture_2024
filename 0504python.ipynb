{
  "nbformat": 4,
  "nbformat_minor": 0,
  "metadata": {
    "colab": {
      "provenance": []
    },
    "kernelspec": {
      "name": "python3",
      "display_name": "Python 3"
    },
    "language_info": {
      "name": "python"
    }
  },
  "cells": [
    {
      "cell_type": "code",
      "source": [
        "name = \"Ken\"\n",
        "print(\"hello\", name)\n",
        "print(\"hello\"+ name)\n",
        "print(f\"hello {name}\")"
      ],
      "metadata": {
        "colab": {
          "base_uri": "https://localhost:8080/"
        },
        "id": "OoAk9HCGTvq7",
        "outputId": "56fa8776-3f73-49a2-c31a-c4ebe588de91"
      },
      "execution_count": 7,
      "outputs": [
        {
          "output_type": "stream",
          "name": "stdout",
          "text": [
            "hello Ken\n",
            "helloKen\n",
            "hello Ken\n"
          ]
        }
      ]
    },
    {
      "cell_type": "code",
      "execution_count": 8,
      "metadata": {
        "colab": {
          "base_uri": "https://localhost:8080/"
        },
        "id": "65CRc3tMS2V3",
        "outputId": "55e0a90f-b4bf-4f38-fe3f-fd6e10e055cc"
      },
      "outputs": [
        {
          "output_type": "stream",
          "name": "stdout",
          "text": [
            "Hello Bioinformatics\n"
          ]
        }
      ],
      "source": [
        "print(\"Hello Bioinformatics\")"
      ]
    },
    {
      "cell_type": "code",
      "source": [
        "width = 4\n",
        "height = 5\n",
        "\n",
        "print(width * height)\n",
        "print(f\"{width} x {height} = {width * height}\") #곱셈기호까지 출력하고싶을 때 이용하기 좋음"
      ],
      "metadata": {
        "colab": {
          "base_uri": "https://localhost:8080/"
        },
        "id": "BAjj4MNEUUZ6",
        "outputId": "2338d1d2-5f69-43f1-8528-66cd9e4100f5"
      },
      "execution_count": 10,
      "outputs": [
        {
          "output_type": "stream",
          "name": "stdout",
          "text": [
            "20\n",
            "4 x 5 = 20\n"
          ]
        }
      ]
    },
    {
      "cell_type": "code",
      "source": [
        "# +, -, *, /, **, %, //\n",
        "\n",
        "num1 =3\n",
        "num2 = 5\n",
        "\n",
        "print(num1 + num2)\n",
        "print(num1 - num2)\n",
        "print(num1 * num2)\n",
        "print(num1 / num2)\n",
        "print(num1 ** num2)\n",
        "print(num1 % num2)\n",
        "print(num1 // num2)"
      ],
      "metadata": {
        "colab": {
          "base_uri": "https://localhost:8080/"
        },
        "id": "qxIG4v0bU8ux",
        "outputId": "082f4ecd-0688-4143-b69f-f4c44f16335b"
      },
      "execution_count": 12,
      "outputs": [
        {
          "output_type": "stream",
          "name": "stdout",
          "text": [
            "8\n",
            "-2\n",
            "15\n",
            "0.6\n",
            "243\n",
            "3\n",
            "0\n"
          ]
        }
      ]
    },
    {
      "cell_type": "code",
      "source": [
        "num1 = 3\n",
        "\n",
        "# if 조건문:\n",
        "  # //do something\n",
        "# else :\n",
        "  # //do something else\n",
        "\n",
        "if num1%2 == 0 :\n",
        "  print(f\"{num1}은 짝수\")\n",
        "else :\n",
        "  print(f\"{num1}은 홀수\")"
      ],
      "metadata": {
        "colab": {
          "base_uri": "https://localhost:8080/"
        },
        "id": "j8L2TBs_ViPX",
        "outputId": "32983809-6fd9-4b1c-b5a9-4048abacda21"
      },
      "execution_count": 13,
      "outputs": [
        {
          "output_type": "stream",
          "name": "stdout",
          "text": [
            "3은 홀수\n"
          ]
        }
      ]
    },
    {
      "cell_type": "code",
      "source": [
        "# if 조건문:\n",
        "  # //do something\n",
        "# elif 조건문2 :\n",
        "  # //do something\n",
        "# elif 조건문3 :\n",
        "  # //do something\n",
        "# else :\n",
        "  # //do something else\n",
        "\n",
        "num1 = 21\n",
        "\n",
        "if num1 % 3 == 0 and num1 % 7 == 0: # 큰 범위를 먼저 써줘야함, 3의 배수 먼저이면 21이 3의 배수로 출력됨\n",
        "  print(\"3 그리고 7의 배수\")\n",
        "elif num1 % 7 == 0 :\n",
        "  print(\"7의 배수\")\n",
        "elif num1 % 3 == 0:\n",
        "  print(\"3의 배수\")\n",
        "else :\n",
        "  print(\"3 또는 7의 배수가 아님\")"
      ],
      "metadata": {
        "colab": {
          "base_uri": "https://localhost:8080/"
        },
        "id": "I4Xl2h9XWX6_",
        "outputId": "0bb2e6d8-f77b-4bec-c88f-d4610cf06f96"
      },
      "execution_count": 17,
      "outputs": [
        {
          "output_type": "stream",
          "name": "stdout",
          "text": [
            "3 그리고 7의 배수\n"
          ]
        }
      ]
    },
    {
      "cell_type": "code",
      "source": [
        "#range(시작=1, 끝=10, 스텝=1)\n",
        "for i in range(1,11) :\n",
        "  print(i)"
      ],
      "metadata": {
        "colab": {
          "base_uri": "https://localhost:8080/"
        },
        "id": "2Dl2m1DDYbF1",
        "outputId": "c4433ba6-ec66-42af-b5af-4cf4356edff8"
      },
      "execution_count": 19,
      "outputs": [
        {
          "output_type": "stream",
          "name": "stdout",
          "text": [
            "1\n",
            "2\n",
            "3\n",
            "4\n",
            "5\n",
            "6\n",
            "7\n",
            "8\n",
            "9\n",
            "10\n"
          ]
        }
      ]
    },
    {
      "cell_type": "code",
      "source": [
        "result = 0\n",
        "for i in range(1,11):\n",
        "  result += i\n",
        "\n",
        "print(result)"
      ],
      "metadata": {
        "colab": {
          "base_uri": "https://localhost:8080/"
        },
        "id": "lrYAxgcxYxFu",
        "outputId": "c745048f-13cd-444b-83db-c115fcfc9478"
      },
      "execution_count": 20,
      "outputs": [
        {
          "output_type": "stream",
          "name": "stdout",
          "text": [
            "55\n"
          ]
        }
      ]
    },
    {
      "cell_type": "code",
      "source": [
        "result = 1\n",
        "for i in range(5, 0, -1):\n",
        "  result *= i\n",
        "print(result)"
      ],
      "metadata": {
        "colab": {
          "base_uri": "https://localhost:8080/"
        },
        "id": "6Gxv_7g7Y5r3",
        "outputId": "494cbcd7-1c3e-4825-8c3f-8a3525eb3e11"
      },
      "execution_count": 23,
      "outputs": [
        {
          "output_type": "stream",
          "name": "stdout",
          "text": [
            "120\n"
          ]
        }
      ]
    },
    {
      "cell_type": "code",
      "source": [
        "print(list(range(11)))\n",
        "print(list(range(5,0,-1)))"
      ],
      "metadata": {
        "colab": {
          "base_uri": "https://localhost:8080/"
        },
        "id": "szUj7yBrZU4K",
        "outputId": "adcc97c5-e9f6-4a94-e2d3-536a3e3daeda"
      },
      "execution_count": 24,
      "outputs": [
        {
          "output_type": "stream",
          "name": "stdout",
          "text": [
            "[0, 1, 2, 3, 4, 5, 6, 7, 8, 9, 10]\n",
            "[5, 4, 3, 2, 1]\n"
          ]
        }
      ]
    },
    {
      "cell_type": "code",
      "source": [
        "print(list(range(1,10,2)))"
      ],
      "metadata": {
        "colab": {
          "base_uri": "https://localhost:8080/"
        },
        "id": "1sRB64VDZpSG",
        "outputId": "c73fbc0b-0a57-4c7a-92b5-774e3087eb26"
      },
      "execution_count": 25,
      "outputs": [
        {
          "output_type": "stream",
          "name": "stdout",
          "text": [
            "[1, 3, 5, 7, 9]\n"
          ]
        }
      ]
    },
    {
      "cell_type": "code",
      "source": [
        "# 구구단의 2단\n",
        "\n",
        "for i in range(0,9) :\n",
        "  i += 1\n",
        "  print(f\"2 X {i} = {2*i}\")\n"
      ],
      "metadata": {
        "colab": {
          "base_uri": "https://localhost:8080/"
        },
        "id": "3GWIIffiZuKp",
        "outputId": "2d911a17-dcba-4a5b-8346-6996c2c494ad"
      },
      "execution_count": 31,
      "outputs": [
        {
          "output_type": "stream",
          "name": "stdout",
          "text": [
            "2 X 1 = 2\n",
            "2 X 2 = 4\n",
            "2 X 3 = 6\n",
            "2 X 4 = 8\n",
            "2 X 5 = 10\n",
            "2 X 6 = 12\n",
            "2 X 7 = 14\n",
            "2 X 8 = 16\n",
            "2 X 9 = 18\n"
          ]
        }
      ]
    },
    {
      "cell_type": "code",
      "source": [
        "for i in range(2, 9, 2):\n",
        "  print(f\"# {i}단\")\n",
        "  for j in range(1, 10, 1):\n",
        "    print(f\"{i}X{j} = {i*j}\")"
      ],
      "metadata": {
        "colab": {
          "base_uri": "https://localhost:8080/"
        },
        "id": "eRaVY4q_alk1",
        "outputId": "d41aadee-7c98-41d9-ba69-3c624e9375e3"
      },
      "execution_count": 35,
      "outputs": [
        {
          "output_type": "stream",
          "name": "stdout",
          "text": [
            "# 2단\n",
            "2X1 = 2\n",
            "2X2 = 4\n",
            "2X3 = 6\n",
            "2X4 = 8\n",
            "2X5 = 10\n",
            "2X6 = 12\n",
            "2X7 = 14\n",
            "2X8 = 16\n",
            "2X9 = 18\n",
            "# 4단\n",
            "4X1 = 4\n",
            "4X2 = 8\n",
            "4X3 = 12\n",
            "4X4 = 16\n",
            "4X5 = 20\n",
            "4X6 = 24\n",
            "4X7 = 28\n",
            "4X8 = 32\n",
            "4X9 = 36\n",
            "# 6단\n",
            "6X1 = 6\n",
            "6X2 = 12\n",
            "6X3 = 18\n",
            "6X4 = 24\n",
            "6X5 = 30\n",
            "6X6 = 36\n",
            "6X7 = 42\n",
            "6X8 = 48\n",
            "6X9 = 54\n",
            "# 8단\n",
            "8X1 = 8\n",
            "8X2 = 16\n",
            "8X3 = 24\n",
            "8X4 = 32\n",
            "8X5 = 40\n",
            "8X6 = 48\n",
            "8X7 = 56\n",
            "8X8 = 64\n",
            "8X9 = 72\n"
          ]
        }
      ]
    },
    {
      "cell_type": "code",
      "source": [
        "num = 5\n",
        "result = 1\n",
        "while num > 0:\n",
        "  print(f\"result ; {result}, num : {num}\")\n",
        "  result *= num\n",
        "  num -= 1\n",
        "\n",
        "print(result)"
      ],
      "metadata": {
        "colab": {
          "base_uri": "https://localhost:8080/"
        },
        "id": "-lk5peFzbEYW",
        "outputId": "fb07485b-f3e5-41a4-aa60-0cd3f4bf178a"
      },
      "execution_count": 37,
      "outputs": [
        {
          "output_type": "stream",
          "name": "stdout",
          "text": [
            "result ; 1, num : 5\n",
            "result ; 5, num : 4\n",
            "result ; 20, num : 3\n",
            "result ; 60, num : 2\n",
            "result ; 120, num : 1\n",
            "120\n"
          ]
        }
      ]
    },
    {
      "cell_type": "code",
      "source": [
        "num = 5\n",
        "result = 1\n",
        "while True:\n",
        "  if num == 0:\n",
        "    break\n",
        "\n",
        "  print(f\"result ; {result}, num : {num}\")\n",
        "  result *= num\n",
        "  num -= 1\n",
        "\n",
        "print(result)"
      ],
      "metadata": {
        "colab": {
          "base_uri": "https://localhost:8080/"
        },
        "id": "m-bD4fN9fErS",
        "outputId": "81e68f3b-c303-4c0e-c938-1c89b826cb79"
      },
      "execution_count": 38,
      "outputs": [
        {
          "output_type": "stream",
          "name": "stdout",
          "text": [
            "result ; 1, num : 5\n",
            "result ; 5, num : 4\n",
            "result ; 20, num : 3\n",
            "result ; 60, num : 2\n",
            "result ; 120, num : 1\n",
            "120\n"
          ]
        }
      ]
    },
    {
      "cell_type": "code",
      "source": [
        "# parameter(x), return(x)\n",
        "\n",
        "def hello():\n",
        "  print(\"hello\") # return 없음\n",
        "\n",
        "res = hello()\n",
        "print(res)\n",
        "\n",
        "hello() # 함수를 call하는 방법"
      ],
      "metadata": {
        "colab": {
          "base_uri": "https://localhost:8080/"
        },
        "id": "96WdJYLCgFbB",
        "outputId": "209191f0-6c75-4609-de98-f4722c131cc5"
      },
      "execution_count": 42,
      "outputs": [
        {
          "output_type": "stream",
          "name": "stdout",
          "text": [
            "hello\n",
            "None\n",
            "hello\n"
          ]
        }
      ]
    },
    {
      "cell_type": "code",
      "source": [
        "# parameter(x), return(o)\n",
        "\n",
        "def add():\n",
        "  a = 2\n",
        "  b = 3\n",
        "  return a + b\n",
        "\n",
        "res = add()\n",
        "print(res)"
      ],
      "metadata": {
        "colab": {
          "base_uri": "https://localhost:8080/"
        },
        "id": "ZmJ3RM3ng2F4",
        "outputId": "719d448f-35bd-43d7-b580-14abfa2b4332"
      },
      "execution_count": 44,
      "outputs": [
        {
          "output_type": "stream",
          "name": "stdout",
          "text": [
            "5\n"
          ]
        }
      ]
    },
    {
      "cell_type": "code",
      "source": [
        "# parameter(o), return(o)\n",
        "\n",
        "def add_two(num1, num2):\n",
        "  return num1 + num2\n",
        "\n",
        "res = add_two(3,4)\n",
        "print(res)"
      ],
      "metadata": {
        "colab": {
          "base_uri": "https://localhost:8080/"
        },
        "id": "2uRhGjsVhhio",
        "outputId": "ceb15898-3399-4306-bff3-93b2532f1c06"
      },
      "execution_count": 45,
      "outputs": [
        {
          "output_type": "stream",
          "name": "stdout",
          "text": [
            "7\n"
          ]
        }
      ]
    },
    {
      "cell_type": "code",
      "source": [
        "# parameter(o), return(x)\n",
        "\n",
        "def add_two2(num1, num2):\n",
        "  print(f\"{num1} + {num2} = {num1+num2}\")\n",
        "\n",
        "res = add_two2(1,2)\n",
        "print(res)"
      ],
      "metadata": {
        "colab": {
          "base_uri": "https://localhost:8080/"
        },
        "id": "zqcwLeQxiCVz",
        "outputId": "98e467d0-6210-4cc4-b21e-8b2f17cc9c5c"
      },
      "execution_count": 47,
      "outputs": [
        {
          "output_type": "stream",
          "name": "stdout",
          "text": [
            "1 + 2 = 3\n",
            "None\n"
          ]
        }
      ]
    },
    {
      "cell_type": "code",
      "source": [
        "name = input()\n",
        "print(f\"안녕하세요. {name}.\")"
      ],
      "metadata": {
        "colab": {
          "base_uri": "https://localhost:8080/"
        },
        "id": "hHBgM0q_iPm3",
        "outputId": "f22669f1-45dc-4a0c-8156-cb59207dd504"
      },
      "execution_count": 48,
      "outputs": [
        {
          "output_type": "stream",
          "name": "stdout",
          "text": [
            "ken\n",
            "안녕하세요. ken.\n"
          ]
        }
      ]
    },
    {
      "cell_type": "code",
      "source": [
        "# 텍스트파일 읽는 두 가지 방법1\n",
        "with open(\"sample.txt\") as handle :\n",
        "  print(type(handle))\n",
        "  for line in handle:\n",
        "    print(line.strip())"
      ],
      "metadata": {
        "colab": {
          "base_uri": "https://localhost:8080/"
        },
        "id": "UgVdxaxAiwc-",
        "outputId": "1dd6f07b-bc6f-427b-f9cd-572cf13bd5c5"
      },
      "execution_count": 49,
      "outputs": [
        {
          "output_type": "stream",
          "name": "stdout",
          "text": [
            "<class '_io.TextIOWrapper'>\n",
            ">sample species\n",
            "ATTAAAGGTTTATACCTTCCCAGGTAACAAACCAACCAACTTTCGATCTCTTGTAGATCTGTTCTCTAAA\n",
            "CGAACTTTAAAATCTGTGTGGCTGTCACTCGGCTGCATGCTTAGTGCACTCACGCAGTATAATTAATAAC\n"
          ]
        }
      ]
    },
    {
      "cell_type": "code",
      "source": [
        "# 텍스트파일 읽는 두 가지 방법2\n",
        "with open(\"sample.txt\") as handle :\n",
        "  data = handle.readlines() #리스트 반환\n",
        "print(data)\n",
        "print(type(data))"
      ],
      "metadata": {
        "colab": {
          "base_uri": "https://localhost:8080/"
        },
        "id": "fEfWB4IakK5Z",
        "outputId": "e4e4618a-d333-4e7d-d8cc-a6071d8c570b"
      },
      "execution_count": 51,
      "outputs": [
        {
          "output_type": "stream",
          "name": "stdout",
          "text": [
            "['>sample species\\n', 'ATTAAAGGTTTATACCTTCCCAGGTAACAAACCAACCAACTTTCGATCTCTTGTAGATCTGTTCTCTAAA\\n', 'CGAACTTTAAAATCTGTGTGGCTGTCACTCGGCTGCATGCTTAGTGCACTCACGCAGTATAATTAATAAC']\n",
            "<class 'list'>\n"
          ]
        }
      ]
    },
    {
      "cell_type": "code",
      "source": [
        "# 텍스트파일 만드는 방법\n",
        "with open(\"write_test.txt\", \"w\") as handle:\n",
        "  handle.write(\"쓰기 테스트.\\n\")\n",
        "  handle.write(\"안녕하세요.\")"
      ],
      "metadata": {
        "id": "fGF7lLmkkiuS"
      },
      "execution_count": 53,
      "outputs": []
    },
    {
      "cell_type": "code",
      "source": [
        "# 예외처리\n",
        "try:\n",
        "  with open(\"abc.txt\") as handle: # filenotfounderror\n",
        "    print(handle.readlines())\n",
        "except :\n",
        "  pass\n",
        "\n",
        "print(\"DONE!\")"
      ],
      "metadata": {
        "colab": {
          "base_uri": "https://localhost:8080/"
        },
        "id": "RceUtKz4lVfQ",
        "outputId": "89543a59-54e4-46c6-ba00-2a5beb3a288e"
      },
      "execution_count": 55,
      "outputs": [
        {
          "output_type": "stream",
          "name": "stdout",
          "text": [
            "DONE!\n"
          ]
        }
      ]
    },
    {
      "cell_type": "code",
      "source": [
        "try:\n",
        "  with open(\"abc.txt\") as handle: # filenotfounderror\n",
        "    print(handle.readlines())\n",
        "except FileNotFoundError as err: # 오류 내용을 출력하는 방법\n",
        "  print(\"ERROR:\", err)\n",
        "\n",
        "print(\"DONE!\")"
      ],
      "metadata": {
        "colab": {
          "base_uri": "https://localhost:8080/"
        },
        "id": "hV-VbIvJmmjS",
        "outputId": "11beaa35-b59b-4580-83de-183d8648e73a"
      },
      "execution_count": 57,
      "outputs": [
        {
          "output_type": "stream",
          "name": "stdout",
          "text": [
            "ERROR: [Errno 2] No such file or directory: 'abc.txt'\n",
            "DONE!\n"
          ]
        }
      ]
    },
    {
      "cell_type": "code",
      "source": [
        "try:\n",
        "  res = 10/0\n",
        "  print(res)\n",
        "\n",
        "except FileNotFoundError as err: # 오류 내용을 출력하는 방법\n",
        "  print(\"ERROR:\", err)\n",
        "except ZeroDivisionError as err:\n",
        "  print(\"ERROR:\", err)\n",
        "\n",
        "print(\"DONE!\")"
      ],
      "metadata": {
        "colab": {
          "base_uri": "https://localhost:8080/"
        },
        "id": "tHKkWO1-m6lK",
        "outputId": "dbc4837f-2c26-45c6-cb24-65fa5b69ab2c"
      },
      "execution_count": 60,
      "outputs": [
        {
          "output_type": "stream",
          "name": "stdout",
          "text": [
            "ERROR: division by zero\n",
            "DONE!\n"
          ]
        }
      ]
    },
    {
      "cell_type": "code",
      "source": [
        "try:\n",
        "  res = 10/0\n",
        "  print(res)\n",
        "\n",
        "except Exception as err: # 오류 내용을 출력하는 방법_구체적으로 오류명을 적지 않아도됨. 명시하는 것을 추천하심\n",
        "  print(\"ERROR:\", err)\n",
        "\n",
        "print(\"DONE!\")"
      ],
      "metadata": {
        "colab": {
          "base_uri": "https://localhost:8080/"
        },
        "id": "Zvmx-cRInVRi",
        "outputId": "5a72e712-ec50-4618-eb9b-a4d36db49595"
      },
      "execution_count": 61,
      "outputs": [
        {
          "output_type": "stream",
          "name": "stdout",
          "text": [
            "ERROR: division by zero\n",
            "DONE!\n"
          ]
        }
      ]
    },
    {
      "cell_type": "code",
      "source": [
        "s1 = \"Bio\"\n",
        "s2 = \"Informatics\"\n",
        "s3 = s1 + s2\n",
        "\n",
        "print(s3)"
      ],
      "metadata": {
        "colab": {
          "base_uri": "https://localhost:8080/"
        },
        "id": "m_9wQeWBntUG",
        "outputId": "b009f1d7-1a7e-4d96-9305-958fef69d762"
      },
      "execution_count": 1,
      "outputs": [
        {
          "output_type": "stream",
          "name": "stdout",
          "text": [
            "BioInformatics\n"
          ]
        }
      ]
    },
    {
      "cell_type": "code",
      "source": [
        "seq1 = \"ATGTTATAG\"\n",
        "\n",
        "print(seq1)\n",
        "for i in range(len(seq1)) :\n",
        "  print(i, seq1[i])"
      ],
      "metadata": {
        "colab": {
          "base_uri": "https://localhost:8080/"
        },
        "id": "ITIWiSSo_L4l",
        "outputId": "8c13c035-b1d8-4735-9c67-1883f70949b2"
      },
      "execution_count": 3,
      "outputs": [
        {
          "output_type": "stream",
          "name": "stdout",
          "text": [
            "ATGTTATAG\n",
            "0 A\n",
            "1 T\n",
            "2 G\n",
            "3 T\n",
            "4 T\n",
            "5 A\n",
            "6 T\n",
            "7 A\n",
            "8 G\n"
          ]
        }
      ]
    },
    {
      "cell_type": "code",
      "source": [
        "seq1 = \"ATGTTATAG\"\n",
        "print(seq1[5])"
      ],
      "metadata": {
        "colab": {
          "base_uri": "https://localhost:8080/"
        },
        "id": "5WkyPeKr_Pwd",
        "outputId": "a903fe5f-98fc-4c08-d447-bb402452c30a"
      },
      "execution_count": 4,
      "outputs": [
        {
          "output_type": "stream",
          "name": "stdout",
          "text": [
            "A\n"
          ]
        }
      ]
    },
    {
      "cell_type": "code",
      "source": [
        "seq1 = \"ATGTTATAG\"\n",
        "print(seq1[3:6]) # 끝은 포함 안됨, 3 4 5 출력"
      ],
      "metadata": {
        "colab": {
          "base_uri": "https://localhost:8080/"
        },
        "id": "nbmcvPjD_1YE",
        "outputId": "f67e03f4-88f6-4173-a28c-0de9f31feddd"
      },
      "execution_count": 5,
      "outputs": [
        {
          "output_type": "stream",
          "name": "stdout",
          "text": [
            "TTA\n"
          ]
        }
      ]
    },
    {
      "cell_type": "code",
      "source": [
        "seq1 = \"ATGTTATAG\"\n",
        "\n",
        "for i in range(0, len(seq1), 3):\n",
        "  print(i, seq1[i])"
      ],
      "metadata": {
        "colab": {
          "base_uri": "https://localhost:8080/"
        },
        "id": "RzzCrswSAGbv",
        "outputId": "9e606906-69d3-4301-bfac-500c53aeab99"
      },
      "execution_count": 6,
      "outputs": [
        {
          "output_type": "stream",
          "name": "stdout",
          "text": [
            "0 A\n",
            "3 T\n",
            "6 T\n"
          ]
        }
      ]
    },
    {
      "cell_type": "code",
      "source": [
        "complement = [\"A\":\"T\", \"C\" : \"G\", \"G\":\"C\", \"T\":\"A\"]\n",
        "\n",
        "print(complement)\n",
        "print(complement[\"A\"])\n",
        "\n",
        "seq1 = \"ATGTTATAG\"\n",
        "result = \"\"\n",
        "for base in seq1:\n",
        "  result += complement[base]\n",
        "print(seq1)\n",
        "print(result)"
      ],
      "metadata": {
        "colab": {
          "base_uri": "https://localhost:8080/",
          "height": 110
        },
        "id": "uJAOag1ZD8p2",
        "outputId": "b56173c8-0a5a-40d7-aa8e-39833367fe16"
      },
      "execution_count": 7,
      "outputs": [
        {
          "output_type": "error",
          "ename": "SyntaxError",
          "evalue": "invalid syntax (<ipython-input-7-7f55c90aeaee>, line 1)",
          "traceback": [
            "\u001b[0;36m  File \u001b[0;32m\"<ipython-input-7-7f55c90aeaee>\"\u001b[0;36m, line \u001b[0;32m1\u001b[0m\n\u001b[0;31m    complement = [\"A\": \"T\", \"C\" : \"G\", \"G\":\"C\", \"T\":\"A\"]\u001b[0m\n\u001b[0m                     ^\u001b[0m\n\u001b[0;31mSyntaxError\u001b[0m\u001b[0;31m:\u001b[0m invalid syntax\n"
          ]
        }
      ]
    },
    {
      "cell_type": "code",
      "source": [
        "seq1 = \"ATGTTATAG\"\n",
        "\n",
        "for base in seq1:\n",
        "  if base == \"C\":\n",
        "    print(\"C in seq\")"
      ],
      "metadata": {
        "id": "8TEIb-g_EpBK"
      },
      "execution_count": 8,
      "outputs": []
    },
    {
      "cell_type": "code",
      "source": [
        "seq1 = \"ATGTTATAG\"\n",
        "\n",
        "if \"C\" in seq1:\n",
        "  print(\"C in seq\")\n",
        "else:\n",
        "  print(\"C not in seq\")"
      ],
      "metadata": {
        "colab": {
          "base_uri": "https://localhost:8080/"
        },
        "id": "yT_RKQ4UE0Y-",
        "outputId": "22e60a0a-7487-4770-a246-ab54198e69a9"
      },
      "execution_count": 12,
      "outputs": [
        {
          "output_type": "stream",
          "name": "stdout",
          "text": [
            "C not in seq\n"
          ]
        }
      ]
    },
    {
      "cell_type": "code",
      "source": [
        "seq1 = \"ATGTTATAG\"\n",
        "for i in range(len(seq1)):\n",
        "  base = seq1[i]\n",
        "  if base == \"T\""
      ],
      "metadata": {
        "colab": {
          "base_uri": "https://localhost:8080/",
          "height": 110
        },
        "id": "dqYguBcVE7If",
        "outputId": "cb725a0b-9fbd-4830-9b88-99ffabd49b87"
      },
      "execution_count": 13,
      "outputs": [
        {
          "output_type": "error",
          "ename": "SyntaxError",
          "evalue": "expected ':' (<ipython-input-13-812c721212d2>, line 4)",
          "traceback": [
            "\u001b[0;36m  File \u001b[0;32m\"<ipython-input-13-812c721212d2>\"\u001b[0;36m, line \u001b[0;32m4\u001b[0m\n\u001b[0;31m    if base == \"T\"\u001b[0m\n\u001b[0m                  ^\u001b[0m\n\u001b[0;31mSyntaxError\u001b[0m\u001b[0;31m:\u001b[0m expected ':'\n"
          ]
        }
      ]
    },
    {
      "cell_type": "code",
      "source": [
        "seq1 = \"ATGTTATAG\"\n",
        "for i, base in enumerate(seq1):\n",
        "  if base == \"T\":\n",
        "    print(i, base)\n",
        "    break"
      ],
      "metadata": {
        "colab": {
          "base_uri": "https://localhost:8080/"
        },
        "id": "A7PaCDfkFfKf",
        "outputId": "84d37627-8db2-46d9-cada-5565eb0322e0"
      },
      "execution_count": 14,
      "outputs": [
        {
          "output_type": "stream",
          "name": "stdout",
          "text": [
            "1 T\n"
          ]
        }
      ]
    },
    {
      "cell_type": "code",
      "source": [
        "seq1 = \"AGTTTATAG\"\n",
        "\n",
        "for i in range(len(seq1)):\n",
        "  # print(seq1[i:i+2])\n",
        "  if seq1[i:i+2] == \"TT\":\n",
        "    print(i, seq1[i:i+2])"
      ],
      "metadata": {
        "colab": {
          "base_uri": "https://localhost:8080/"
        },
        "id": "RbhazTjkFe57",
        "outputId": "a2938ada-4abf-4598-9534-789dafc11595"
      },
      "execution_count": 17,
      "outputs": [
        {
          "output_type": "stream",
          "name": "stdout",
          "text": [
            "3 TT\n"
          ]
        }
      ]
    },
    {
      "cell_type": "code",
      "source": [
        "seq1 = \"AGTTTATAG\"\n",
        "print(seq1.index(\"T\"))\n",
        "print(seq1.index(\"TT\"))"
      ],
      "metadata": {
        "colab": {
          "base_uri": "https://localhost:8080/"
        },
        "id": "HbRjkoWHGTBQ",
        "outputId": "8e41bbe2-fbbf-41b8-adc1-54575c13164e"
      },
      "execution_count": 18,
      "outputs": [
        {
          "output_type": "stream",
          "name": "stdout",
          "text": [
            "1\n",
            "3\n"
          ]
        }
      ]
    },
    {
      "cell_type": "code",
      "source": [
        "s1 = \"AA,AC,AG,AT\"\n",
        "data = s1.split(\",\")\n",
        "print(data)\n",
        "print(type(data))\n",
        "\n",
        "s2 = \"_\".join(data)\n",
        "s2 = \"||\".join(data)\n",
        "print(s2)"
      ],
      "metadata": {
        "colab": {
          "base_uri": "https://localhost:8080/"
        },
        "id": "6rI6u-UcGrNd",
        "outputId": "5f394616-a569-4fbc-e061-804ec58e8423"
      },
      "execution_count": 20,
      "outputs": [
        {
          "output_type": "stream",
          "name": "stdout",
          "text": [
            "['AA', 'AC', 'AG', 'AT']\n",
            "<class 'list'>\n",
            "AA||AC||AG||AT\n"
          ]
        }
      ]
    },
    {
      "cell_type": "code",
      "source": [
        "seq1 = \"ATGTTATAG\"\n",
        "print(seq1[::-1])\n",
        "\n",
        "data = [\"AA\", \"AC\", \"AG\", \"AT\"]\n",
        "print(data[::-1])"
      ],
      "metadata": {
        "colab": {
          "base_uri": "https://localhost:8080/"
        },
        "id": "IF_mISAQHRlP",
        "outputId": "06b31280-de63-4cb2-cad6-88c4fa968ca9"
      },
      "execution_count": 21,
      "outputs": [
        {
          "output_type": "stream",
          "name": "stdout",
          "text": [
            "GATATTGTA\n",
            "['AT', 'AG', 'AC', 'AA']\n"
          ]
        }
      ]
    },
    {
      "cell_type": "code",
      "source": [
        "data = [3, 1, 1, 2, 0, 0, 2, 3, 3]\n",
        "\n",
        "print(max(data))\n",
        "print(min(data))"
      ],
      "metadata": {
        "colab": {
          "base_uri": "https://localhost:8080/"
        },
        "id": "p9mAGoDSHz9F",
        "outputId": "5bd4b722-64af-42f6-d22a-0d4c387cda99"
      },
      "execution_count": 22,
      "outputs": [
        {
          "output_type": "stream",
          "name": "stdout",
          "text": [
            "3\n",
            "0\n"
          ]
        }
      ]
    },
    {
      "cell_type": "code",
      "source": [
        "# max, min 함수가 없을 경우\n",
        "\n",
        "data = [3, 1, 1, 2, 0, 0, 2, 3, 3]\n",
        "max_val = data[0]\n",
        "min_val = data[0]\n",
        "\n",
        "for i in data:\n",
        "  if i > max_val:\n",
        "    max_val = i\n",
        "  if i < min_val:\n",
        "    min_val = i\n",
        "print(max_val, min_val)"
      ],
      "metadata": {
        "colab": {
          "base_uri": "https://localhost:8080/"
        },
        "id": "jzIc9gkrIOHp",
        "outputId": "2c6b69f5-01e4-45d7-eb70-a3d685a97ae6"
      },
      "execution_count": 24,
      "outputs": [
        {
          "output_type": "stream",
          "name": "stdout",
          "text": [
            "3 0\n"
          ]
        }
      ]
    },
    {
      "cell_type": "code",
      "source": [
        "data = [3, 1, 1, 2, 0, 0, 2, 3, 3]\n",
        "result = 0\n",
        "for i in data :\n",
        "  result += i\n",
        "print(result)\n",
        "\n",
        "print(sum(data)) # 위의 과정을 한번에 계산"
      ],
      "metadata": {
        "colab": {
          "base_uri": "https://localhost:8080/"
        },
        "id": "7VPO-k43IrR3",
        "outputId": "855e827a-dfd6-40ab-86b5-607765eb74be"
      },
      "execution_count": 25,
      "outputs": [
        {
          "output_type": "stream",
          "name": "stdout",
          "text": [
            "15\n",
            "15\n"
          ]
        }
      ]
    },
    {
      "cell_type": "code",
      "source": [
        "data = [3, 1, 1, 2, 0, 0, 2, 3, 3]\n",
        "print(len(data))"
      ],
      "metadata": {
        "colab": {
          "base_uri": "https://localhost:8080/"
        },
        "id": "n-STDaihJBS6",
        "outputId": "9c13073c-fe6f-43ea-a818-b6fa0e434c9d"
      },
      "execution_count": 26,
      "outputs": [
        {
          "output_type": "stream",
          "name": "stdout",
          "text": [
            "9\n"
          ]
        }
      ]
    },
    {
      "cell_type": "code",
      "source": [
        "print(sum(data)/len(data))"
      ],
      "metadata": {
        "colab": {
          "base_uri": "https://localhost:8080/"
        },
        "id": "oIjD62NzJNyN",
        "outputId": "c407074e-279d-452f-cb06-983097f646d1"
      },
      "execution_count": 27,
      "outputs": [
        {
          "output_type": "stream",
          "name": "stdout",
          "text": [
            "1.6666666666666667\n"
          ]
        }
      ]
    },
    {
      "cell_type": "code",
      "source": [
        "import statistics\n",
        "statistics.stdev(data)"
      ],
      "metadata": {
        "colab": {
          "base_uri": "https://localhost:8080/"
        },
        "id": "ZOwuZALBJYD1",
        "outputId": "96f9537d-4963-4d89-aa87-682d19cf5f31"
      },
      "execution_count": 28,
      "outputs": [
        {
          "output_type": "execute_result",
          "data": {
            "text/plain": [
              "1.224744871391589"
            ]
          },
          "metadata": {},
          "execution_count": 28
        }
      ]
    },
    {
      "cell_type": "code",
      "source": [
        "seq1 = \"ATGTTATAG\"\n",
        "\n",
        "for i in range(0,len(seq1),3):\n",
        "  print(i, i+3, seq1[i:i+3])"
      ],
      "metadata": {
        "colab": {
          "base_uri": "https://localhost:8080/"
        },
        "id": "a_JVvuQQJpjp",
        "outputId": "206c7369-3655-46c8-ab00-cb938c60f1a4"
      },
      "execution_count": 29,
      "outputs": [
        {
          "output_type": "stream",
          "name": "stdout",
          "text": [
            "0 3 ATG\n",
            "3 6 TTA\n",
            "6 9 TAG\n"
          ]
        }
      ]
    },
    {
      "cell_type": "code",
      "source": [
        "seq1 = \"ATGTTATAG\"\n",
        "result = \"\"\n",
        "\n",
        "for i in range(len(seq1)-1, -1, -1):\n",
        "  print(i, seq1[1])\n",
        "  result += seq1[i]\n",
        "\n",
        "print(result) # 거꾸로 출력"
      ],
      "metadata": {
        "colab": {
          "base_uri": "https://localhost:8080/"
        },
        "id": "pZnUclzqLvz4",
        "outputId": "e27dee07-6a56-4b14-e9cc-ed216299a3f7"
      },
      "execution_count": 30,
      "outputs": [
        {
          "output_type": "stream",
          "name": "stdout",
          "text": [
            "8 T\n",
            "7 T\n",
            "6 T\n",
            "5 T\n",
            "4 T\n",
            "3 T\n",
            "2 T\n",
            "1 T\n",
            "0 T\n",
            "GATATTGTA\n"
          ]
        }
      ]
    },
    {
      "cell_type": "code",
      "source": [
        "data = list(range(0,10))\n",
        "print(data)\n"
      ],
      "metadata": {
        "colab": {
          "base_uri": "https://localhost:8080/"
        },
        "id": "WEz8PijDMYXH",
        "outputId": "a0a5742a-ff61-41d6-c61f-717e65b0cede"
      },
      "execution_count": 31,
      "outputs": [
        {
          "output_type": "stream",
          "name": "stdout",
          "text": [
            "[0, 1, 2, 3, 4, 5, 6, 7, 8, 9]\n"
          ]
        }
      ]
    },
    {
      "cell_type": "code",
      "source": [
        "data = [3, 1, 1, 2, 0, 0, 2, 3, 3]\n",
        "\n",
        "print(data.count(0))\n",
        "print(data.count(1))\n",
        "print(data.count(2))\n",
        "print(data.count(3))"
      ],
      "metadata": {
        "colab": {
          "base_uri": "https://localhost:8080/"
        },
        "id": "yqUsIonpMxg3",
        "outputId": "14203651-75c7-4e7b-a5e1-4482a77f932c"
      },
      "execution_count": 33,
      "outputs": [
        {
          "output_type": "stream",
          "name": "stdout",
          "text": [
            "2\n",
            "2\n",
            "2\n",
            "3\n"
          ]
        }
      ]
    },
    {
      "cell_type": "code",
      "source": [
        "data = [3, 1, 1, 2, 0, 0, 2, 3, 3]\n",
        "count_data = dict()\n",
        "for i in data:\n",
        "  if i not in count_data:\n",
        "    count_data[i] = 0\n",
        "  count_data[i] += 1\n",
        "print(count_data)\n",
        "\n",
        "for key, value in count_data.items():\n",
        "  print(key, value)"
      ],
      "metadata": {
        "colab": {
          "base_uri": "https://localhost:8080/"
        },
        "id": "6g1FDinoM9TK",
        "outputId": "b7420b42-f03c-4b87-b51e-78173d63e9b4"
      },
      "execution_count": 34,
      "outputs": [
        {
          "output_type": "stream",
          "name": "stdout",
          "text": [
            "{3: 3, 1: 2, 2: 2, 0: 2}\n",
            "3 3\n",
            "1 2\n",
            "2 2\n",
            "0 2\n"
          ]
        }
      ]
    },
    {
      "cell_type": "code",
      "source": [
        "count_data.items()"
      ],
      "metadata": {
        "colab": {
          "base_uri": "https://localhost:8080/"
        },
        "id": "OaiSXFTPNcX5",
        "outputId": "54b8d23d-2924-4f08-e570-96ae54f9e610"
      },
      "execution_count": 35,
      "outputs": [
        {
          "output_type": "execute_result",
          "data": {
            "text/plain": [
              "dict_items([(3, 3), (1, 2), (2, 2), (0, 2)])"
            ]
          },
          "metadata": {},
          "execution_count": 35
        }
      ]
    },
    {
      "cell_type": "code",
      "source": [
        "count_data.keys() #key는 리스트이므로"
      ],
      "metadata": {
        "colab": {
          "base_uri": "https://localhost:8080/"
        },
        "id": "IAZx_GECNjOj",
        "outputId": "86797994-22c7-4749-90ef-6a46115b3f55"
      },
      "execution_count": 36,
      "outputs": [
        {
          "output_type": "execute_result",
          "data": {
            "text/plain": [
              "dict_keys([3, 1, 2, 0])"
            ]
          },
          "metadata": {},
          "execution_count": 36
        }
      ]
    },
    {
      "cell_type": "code",
      "source": [
        "sorted(count_data.keys()) #key는 리스트이므로 key로 딕셔너리에 접근하면 순서대로 정렬되어 출력"
      ],
      "metadata": {
        "colab": {
          "base_uri": "https://localhost:8080/"
        },
        "id": "kfVWxAXrNmge",
        "outputId": "ce338e81-e583-4f61-a9ba-3fa178c916f9"
      },
      "execution_count": 38,
      "outputs": [
        {
          "output_type": "execute_result",
          "data": {
            "text/plain": [
              "[0, 1, 2, 3]"
            ]
          },
          "metadata": {},
          "execution_count": 38
        }
      ]
    },
    {
      "cell_type": "code",
      "source": [
        "for key in sorted(count_data.keys()):\n",
        "  print(key, count_data[key])"
      ],
      "metadata": {
        "colab": {
          "base_uri": "https://localhost:8080/"
        },
        "id": "9ZC-bAHwNsK5",
        "outputId": "bb7d5d0c-7d24-4d5d-cafa-3983f0459d09"
      },
      "execution_count": 39,
      "outputs": [
        {
          "output_type": "stream",
          "name": "stdout",
          "text": [
            "0 2\n",
            "1 2\n",
            "2 2\n",
            "3 3\n"
          ]
        }
      ]
    },
    {
      "cell_type": "code",
      "source": [
        "data = dict()\n",
        "with open(\"sample.txt\") as handle:\n",
        "  for line in handle:\n",
        "    if line.startswith(\">\"):\n",
        "      continue\n",
        "\n",
        "      for base in line.strip():\n",
        "        if base not in data:\n",
        "          data[base] = 0\n",
        "      data[base] += 1\n",
        "print(data)\n",
        "\n",
        "print(sorted(data.keys()))\n",
        "for base in sorted(data.keys()):\n",
        "  print(base,data[base])"
      ],
      "metadata": {
        "colab": {
          "base_uri": "https://localhost:8080/"
        },
        "id": "pGbw6z51OGuY",
        "outputId": "2a100ca7-4066-47b9-d0dd-977b18ed30d5"
      },
      "execution_count": 66,
      "outputs": [
        {
          "output_type": "stream",
          "name": "stdout",
          "text": [
            "{}\n",
            "[]\n"
          ]
        }
      ]
    },
    {
      "cell_type": "code",
      "source": [
        "data = [3, 1, 1, 2, 0, 0, 2, 3, 3]\n",
        "data_set = set(data)\n",
        "print(data_set)"
      ],
      "metadata": {
        "colab": {
          "base_uri": "https://localhost:8080/"
        },
        "id": "1fNJtwECO-Vu",
        "outputId": "2459971a-c136-4dba-c843-4b25dc5cefea"
      },
      "execution_count": 48,
      "outputs": [
        {
          "output_type": "stream",
          "name": "stdout",
          "text": [
            "{0, 1, 2, 3}\n"
          ]
        }
      ]
    },
    {
      "cell_type": "code",
      "source": [
        "data = {\"A\":1, \"C\":10}\n",
        "print(data[\"A\"]) #data[0] (X)\n",
        "\n",
        "data = {0, 1, 2, 3}"
      ],
      "metadata": {
        "colab": {
          "base_uri": "https://localhost:8080/"
        },
        "id": "fahYjZcJP_-j",
        "outputId": "ac112e7d-8bc7-4b49-c7f3-211677a9ea07"
      },
      "execution_count": 50,
      "outputs": [
        {
          "output_type": "stream",
          "name": "stdout",
          "text": [
            "1\n"
          ]
        }
      ]
    },
    {
      "cell_type": "code",
      "source": [
        "data1 = {1, 2, 5, 10}\n",
        "data2 = {1, 2, 3, 6}\n",
        "\n",
        "print(data1.intersection(data2))\n",
        "print(data1.union(data2))\n",
        "print(data1-data2)\n",
        "print(data2-data1)"
      ],
      "metadata": {
        "colab": {
          "base_uri": "https://localhost:8080/"
        },
        "id": "01Ho7chfQpVq",
        "outputId": "cbf3c400-df91-4123-bf22-3c687df25a74"
      },
      "execution_count": 51,
      "outputs": [
        {
          "output_type": "stream",
          "name": "stdout",
          "text": [
            "{1, 2}\n",
            "{1, 2, 3, 5, 6, 10}\n",
            "{10, 5}\n",
            "{3, 6}\n"
          ]
        }
      ]
    },
    {
      "cell_type": "code",
      "source": [
        "data = [1,2,3]\n",
        "print(data)\n",
        "print(type(data))"
      ],
      "metadata": {
        "colab": {
          "base_uri": "https://localhost:8080/"
        },
        "id": "x3aFcOLzRELA",
        "outputId": "63c7b561-6d9c-4686-c67c-337c122028b0"
      },
      "execution_count": 53,
      "outputs": [
        {
          "output_type": "stream",
          "name": "stdout",
          "text": [
            "[1, 2, 3]\n",
            "<class 'list'>\n"
          ]
        }
      ]
    },
    {
      "cell_type": "code",
      "source": [
        "# class는 붕어빵 틀, object는 붕어빵\n",
        "\n",
        "class Student:\n",
        "  def __init__(self):\n",
        "    self.name = \"\"\n",
        "    self.major = \"\"\n",
        "  def study(self, subject):\n",
        "    pass\n",
        "  def walk(self, dest):\n",
        "    pass\n",
        "\n",
        "student1 = Student()\n",
        "print(type(student1))\n",
        "student1.name = \"dahyun\"\n",
        "student1.major = \"bioinformatics\"\n",
        "\n",
        "print(student1.name)"
      ],
      "metadata": {
        "colab": {
          "base_uri": "https://localhost:8080/"
        },
        "id": "Kz9YMmH1RRX_",
        "outputId": "a664a7c1-8ce5-4a93-d09c-603ebe493404"
      },
      "execution_count": 57,
      "outputs": [
        {
          "output_type": "stream",
          "name": "stdout",
          "text": [
            "<class '__main__.Student'>\n",
            "dahyun\n"
          ]
        }
      ]
    },
    {
      "cell_type": "code",
      "source": [
        "class Student:\n",
        "  def __init__(self):\n",
        "    self.name = \"\"\n",
        "    self.major = \"\"\n",
        "  def __str__(self):\n",
        "    return f\"{self.name}, {self.major}.\"\n",
        "  def __add__(self, other):\n",
        "    return self.name + ',' +other.name\n",
        "  def __len__(self):\n",
        "    return len(self.name)\n",
        "  def study(self, subject):\n",
        "    print(f\"{self.name} studies {subject}\")\n",
        "  def walk(self, dest):\n",
        "    return f\"{self.name} goes to {dest}\"\n",
        "\n",
        "student1 = Student()\n",
        "print(type(student1))\n",
        "student1.name = \"dahyun\"\n",
        "student1.major = \"bioinformatics\"\n",
        "\n",
        "student1.study(\"bio\")\n",
        "res = student1.walk(\"library\")\n",
        "print(res)\n",
        "\n",
        "print(student1)\n",
        "\n",
        "student2 = Student()\n",
        "student2.name = \"jame\"\n",
        "print(student1)\n",
        "print(student2)\n",
        "print(student1 + student2)\n",
        "print(len(student1))"
      ],
      "metadata": {
        "colab": {
          "base_uri": "https://localhost:8080/"
        },
        "id": "wGbfIG5QSenu",
        "outputId": "be03b7c7-bb3b-4280-b16d-20c826765c2d"
      },
      "execution_count": 65,
      "outputs": [
        {
          "output_type": "stream",
          "name": "stdout",
          "text": [
            "<class '__main__.Student'>\n",
            "dahyun studies bio\n",
            "dahyun goes to library\n",
            "dahyun, bioinformatics.\n",
            "dahyun, bioinformatics.\n",
            "jame, .\n",
            "dahyun,jame\n",
            "6\n"
          ]
        }
      ]
    },
    {
      "cell_type": "code",
      "source": [],
      "metadata": {
        "id": "c2HzyvVtS2-_"
      },
      "execution_count": null,
      "outputs": []
    }
  ]
}