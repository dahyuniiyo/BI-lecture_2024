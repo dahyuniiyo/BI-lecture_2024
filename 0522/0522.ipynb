{
 "cells": [
  {
   "cell_type": "code",
   "execution_count": 18,
   "metadata": {},
   "outputs": [
    {
     "name": "stdout",
     "output_type": "stream",
     "text": [
      "<_io.TextIOWrapper encoding='UTF-8'>\n"
     ]
    }
   ],
   "source": [
    "from Bio import Entrez\n",
    "\n",
    "Entrez.email = \"rlaekgus0518@naver.com\"\n",
    "handle = Entrez.efetch(\n",
    "    db=\"nucleotide\", \n",
    "    rettype=\"gb\", \n",
    "    id=\"NC_045512\", \n",
    "    retmode=\"text\",\n",
    "\n",
    ")\n",
    "print(handle)\n",
    "\n",
    "result_filepath = \"result.gb\"\n",
    "with open(result_filepath,\"w\") as fw:\n",
    "    for line in handle:\n",
    "        fw.write(line)"
   ]
  },
  {
   "cell_type": "code",
   "execution_count": 30,
   "metadata": {},
   "outputs": [
    {
     "name": "stdout",
     "output_type": "stream",
     "text": [
      "NC_045512.2\n",
      "Severe acute respiratory syndrome coronavirus 2 isolate Wuhan-Hu-1, complete genome\n"
     ]
    }
   ],
   "source": [
    "from Bio import SeqIO\n",
    "\n",
    "record = SeqIO.read(\"result.gb\", \"genbank\")\n",
    "print(record.id)\n",
    "# dir(record)\n",
    "# print(record.id)\n",
    "print(record.description)"
   ]
  },
  {
   "cell_type": "code",
   "execution_count": 39,
   "metadata": {},
   "outputs": [],
   "source": [
    "def make_ncbi_id_list(file):\n",
    "    ncbi_id_list = list()\n",
    "    with open(file) as handle:\n",
    "        for line in handle:\n",
    "            ncbi_id_list.append(line.strip())\n",
    "    return ncbi_id_list"
   ]
  },
  {
   "cell_type": "code",
   "execution_count": 42,
   "metadata": {},
   "outputs": [
    {
     "data": {
      "text/plain": [
       "['NC_002549', 'NC_001802', 'NC_007759']"
      ]
     },
     "execution_count": 42,
     "metadata": {},
     "output_type": "execute_result"
    }
   ],
   "source": [
    "make_ncbi_id_list(\"ncbi_id_list.txt\")"
   ]
  },
  {
   "cell_type": "code",
   "execution_count": 34,
   "metadata": {},
   "outputs": [],
   "source": [
    "from Bio import Entrez\n",
    "\n",
    "def make_ncbi_id_list(file):\n",
    "    ncbi_id_list = list()\n",
    "    with open(file) as handle:\n",
    "        for line in handle:\n",
    "            ncbi_id_list.append(line.strip())\n",
    "    return ncbi_id_list\n",
    "            \n",
    "\n",
    "def genbank_downloader(ncbi_id):\n",
    "    Entrez.email : \"rlaekgus0518@naver.com\"\n",
    "    handle = Entrez.efetch(db=\"nucleotide\", rettype=\"gb\", id=ncbi_id, retmode=\"text\")\n",
    "    write_filepath =  f\"{ncbi_id}.gb\"\n",
    "    with open(write_filepath, \"w\") as fw:\n",
    "        for line in handle:\n",
    "            fw.write(line)\n",
    "    print(f\"#DONE: {write_filepath}\")\n",
    "\n",
    "def main(filepath):\n",
    "    ncbi_id_list = make_ncbi_id_list(filepath)\n",
    "    for ncbi_id in ncbi_id_list:\n",
    "        genbank_downloader(ncbi_id)\n",
    "\n",
    "main(\"ncbi_id_list.txt\")"
   ]
  },
  {
   "cell_type": "code",
   "execution_count": 35,
   "metadata": {},
   "outputs": [],
   "source": [
    "from Bio import SeqIO\n",
    "\n",
    "def make_ncbi_id_list(file):\n",
    "    ncbi_id_list = list()\n",
    "    with open(file) as handle:\n",
    "        for line in handle:\n",
    "            ncbi_id_list.append(line.strip())\n",
    "    return ncbi_id_list\n",
    "\n",
    "def read_genbank_file(genbank_filepath):\n",
    "    record = SeqIO.read(genbank_filepath, \" genbank\")\n",
    "    print(record.id)\n",
    "    print(len(record.seq))\n",
    "    print(record.description)\n",
    "    print(record.annotations[\"molecule_type\"])\n",
    "    print(record.annotations[\"organism\"])\n",
    "    print(\"\")\n",
    "\n",
    "def main(file):\n",
    "    ncbi_id_list = make_ncbi_id_list(file)\n",
    "    for ncbi_id in ncbi_id_list:\n",
    "        read_genbank_file(ncbi_id+\".gb\")\n",
    "\n",
    "main(\"ncbi_id_list.txt\")"
   ]
  },
  {
   "cell_type": "code",
   "execution_count": null,
   "metadata": {},
   "outputs": [],
   "source": []
  },
  {
   "cell_type": "code",
   "execution_count": null,
   "metadata": {},
   "outputs": [],
   "source": []
  }
 ],
 "metadata": {
  "kernelspec": {
   "display_name": "base",
   "language": "python",
   "name": "python3"
  },
  "language_info": {
   "codemirror_mode": {
    "name": "ipython",
    "version": 3
   },
   "file_extension": ".py",
   "mimetype": "text/x-python",
   "name": "python",
   "nbconvert_exporter": "python",
   "pygments_lexer": "ipython3",
   "version": "3.11.7"
  }
 },
 "nbformat": 4,
 "nbformat_minor": 2
}
